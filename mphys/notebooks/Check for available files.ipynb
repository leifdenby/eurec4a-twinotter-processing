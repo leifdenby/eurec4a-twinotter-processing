{
 "cells": [
  {
   "cell_type": "code",
   "execution_count": 1,
   "metadata": {},
   "outputs": [],
   "source": [
    "import xarray as xr"
   ]
  },
  {
   "cell_type": "code",
   "execution_count": 4,
   "metadata": {},
   "outputs": [],
   "source": [
    "flights = range(330, 355)\n",
    "instruments = \"cdp ds ffssp hvps\".split()"
   ]
  },
  {
   "cell_type": "code",
   "execution_count": 3,
   "metadata": {},
   "outputs": [],
   "source": [
    "flight_number = 334\n",
    "instrument = \"cdp\"\n",
    "ds = xr.open_dataset(f\"current/{instrument}/nc_output/to{flight_number}_{instrument}_r1.nc\")"
   ]
  },
  {
   "cell_type": "code",
   "execution_count": 8,
   "metadata": {},
   "outputs": [
    {
     "name": "stdout",
     "output_type": "stream",
     "text": [
      "flight_number,cdp,ds,ffssp,hvps\n",
      "330,no file,no file,1hz file exists,1hz file exists\n",
      "331,no file,no file,1hz file exists,1hz file exists\n",
      "332,1hz file exists,no file,no file,1hz file exists\n",
      "333,1hz file exists,no file,no file,1hz file exists\n",
      "334,1hz file exists,1hz file exists,no file,1hz file exists\n",
      "335,1hz file exists,no file,no file,no file\n",
      "336,1hz file exists,1hz file exists,no file,1hz file exists\n",
      "337,1hz file exists,1hz file exists,no file,1hz file exists\n",
      "338,1hz file exists,1hz file exists,no file,no file\n",
      "339,1hz file exists,1hz file exists,no file,1hz file exists\n",
      "340,1hz file exists,1hz file exists,no file,1hz file exists\n",
      "341,1hz file exists,1hz file exists,1hz file exists,1hz file exists\n",
      "342,1hz file exists,1hz file exists,1hz file exists,1hz file exists\n",
      "343,1hz file exists,1hz file exists,1hz file exists,1hz file exists\n",
      "344,1hz file exists,1hz file exists,1hz file exists,1hz file exists\n",
      "345,1hz file exists,no file,1hz file exists,1hz file exists\n",
      "346,1hz file exists,1hz file exists,1hz file exists,1hz file exists\n",
      "347,1hz file exists,1hz file exists,1hz file exists,1hz file exists\n",
      "348,1hz file exists,1hz file exists,1hz file exists,1hz file exists\n",
      "349,1hz file exists,1hz file exists,1hz file exists,1hz file exists\n",
      "350,1hz file exists,1hz file exists,1hz file exists,1hz file exists\n",
      "351,1hz file exists,1hz file exists,1hz file exists,1hz file exists\n",
      "352,1hz file exists,1hz file exists,1hz file exists,1hz file exists\n",
      "353,1hz file exists,1hz file exists,1hz file exists,no file\n",
      "354,1hz file exists,1hz file exists,1hz file exists,no file\n"
     ]
    }
   ],
   "source": [
    "print(\"\\t\".join([\"flight_number\"] + instruments))\n",
    "for flight_number in flights:\n",
    "    p = [str(flight_number)]\n",
    "    for instrument in instruments:\n",
    "        try:\n",
    "            xr.open_dataset(f\"current/{instrument}/nc_output/to{flight_number}_{instrument}_r1.nc\")\n",
    "            p.append(\"1hz file exists\")\n",
    "        except:\n",
    "            p.append(\"no file\")\n",
    "    print(\"\\t\".join(p))"
   ]
  },
  {
   "cell_type": "code",
   "execution_count": null,
   "metadata": {},
   "outputs": [],
   "source": []
  }
 ],
 "metadata": {
  "kernelspec": {
   "display_name": "Python 3",
   "language": "python",
   "name": "python3"
  },
  "language_info": {
   "codemirror_mode": {
    "name": "ipython",
    "version": 3
   },
   "file_extension": ".py",
   "mimetype": "text/x-python",
   "name": "python",
   "nbconvert_exporter": "python",
   "pygments_lexer": "ipython3",
   "version": "3.7.9"
  }
 },
 "nbformat": 4,
 "nbformat_minor": 4
}
